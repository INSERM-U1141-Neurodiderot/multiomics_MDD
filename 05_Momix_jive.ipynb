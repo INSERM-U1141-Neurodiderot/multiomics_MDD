{
 "cells": [
  {
   "cell_type": "code",
   "execution_count": 1,
   "id": "e2c9eb97",
   "metadata": {
    "scrolled": true
   },
   "outputs": [],
   "source": [
    "### https://github.com/ComputationalSystemsBiology/momix-notebook/blob/master/scripts/runfactorization.R\n",
    "\n",
    "\n",
    "##### runfactoization runs all the considered multi-omics factorization\n",
    "### the required inputs are:\n",
    "### \"folder\" corresponding to the path to the folder where the input files are contained, in the idea that all omics matrices are organized inside a unique folder\n",
    "### \"file.names\" corresponding to a vector containing the names of all the omics files\n",
    "### \"num.factors\" containing the number of factors in which we desire to decompose the matrices\n",
    "### \"sep=\" \"\" corresponding to the separator used in the omics files required to properly read them\n",
    "### \"single.cell\" indicating if the data are single cell data. In this case the filtering of the data will be more intense in respect to other data types\n",
    "### \"filtering\"\n",
    "\n",
    "### the input files need to be log2 transformed before running the analysis\n",
    "\n",
    ".libPaths( c( .libPaths(), \"/home/amazigh.mokhtari/NeuroDev_ADD/R/r_3.6.0/\") )\n",
    "\n",
    "library(\"r.jive\")\n"
   ]
  },
  {
   "cell_type": "code",
   "execution_count": 2,
   "id": "c84928ec",
   "metadata": {},
   "outputs": [],
   "source": [
    "omics = readRDS (\"00_Data/MDD_Male_DNAm_No_preserv.RDS\")\n",
    "num.factors = 10"
   ]
  },
  {
   "cell_type": "code",
   "execution_count": 3,
   "id": "07bca7fa",
   "metadata": {},
   "outputs": [],
   "source": [
    "                                       \n",
    "  ### JIVE\n",
    "\n",
    "factorizations_jive = jive(lapply ( omics[1:3]  , t ), rankJ=num.factors, rankA = rep(num.factors, length(lapply ( omics[1:3]  , t ))), method = \"given\", conv = \"default\", maxiter = 100, showProgress=FALSE)\n",
    "\n",
    "                                            \n"
   ]
  },
  {
   "cell_type": "code",
   "execution_count": 11,
   "id": "cbd99b90-3c30-4199-b4b9-f42af9941fff",
   "metadata": {},
   "outputs": [
    {
     "data": {
      "text/html": [
       "<ol>\n",
       "\t<li>NULL</li>\n",
       "</ol>\n"
      ],
      "text/latex": [
       "\\begin{enumerate}\n",
       "\\item NULL\n",
       "\\end{enumerate}\n"
      ],
      "text/markdown": [
       "1. NULL\n",
       "\n",
       "\n"
      ],
      "text/plain": [
       "[[1]]\n",
       "NULL\n"
      ]
     },
     "metadata": {},
     "output_type": "display_data"
    }
   ],
   "source": []
  },
  {
   "cell_type": "code",
   "execution_count": 12,
   "id": "b2fcfbec-409b-47c7-be56-0b692fab4b64",
   "metadata": {},
   "outputs": [],
   "source": [
    "saveRDS(factorizations_jive , \"02_Results/01_MDD_Male_DNAm_No_preserv/03_factorizations_jive_dry.RDS\")                                         \n"
   ]
  },
  {
   "cell_type": "code",
   "execution_count": 6,
   "id": "bb719b37",
   "metadata": {},
   "outputs": [],
   "source": [
    "factorizations_jive$individual"
   ]
  }
 ],
 "metadata": {
  "kernelspec": {
   "display_name": "R 3.6",
   "language": "R",
   "name": "ir36"
  },
  "language_info": {
   "codemirror_mode": "r",
   "file_extension": ".r",
   "mimetype": "text/x-r-source",
   "name": "R",
   "pygments_lexer": "r",
   "version": "3.6.0"
  }
 },
 "nbformat": 4,
 "nbformat_minor": 5
}

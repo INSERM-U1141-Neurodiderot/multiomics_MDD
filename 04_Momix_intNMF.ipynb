{
 "cells": [
  {
   "cell_type": "code",
   "execution_count": 12,
   "id": "e2c9eb97",
   "metadata": {
    "scrolled": true
   },
   "outputs": [],
   "source": [
    "### https://github.com/ComputationalSystemsBiology/momix-notebook/blob/master/scripts/runfactorization.R\n",
    "\n",
    "\n",
    "##### runfactoization runs all the considered multi-omics factorization\n",
    "### the required inputs are:\n",
    "### \"folder\" corresponding to the path to the folder where the input files are contained, in the idea that all omics matrices are organized inside a unique folder\n",
    "### \"file.names\" corresponding to a vector containing the names of all the omics files\n",
    "### \"num.factors\" containing the number of factors in which we desire to decompose the matrices\n",
    "### \"sep=\" \"\" corresponding to the separator used in the omics files required to properly read them\n",
    "### \"single.cell\" indicating if the data are single cell data. In this case the filtering of the data will be more intense in respect to other data types\n",
    "### \"filtering\"\n",
    "\n",
    "### the input files need to be log2 transformed before running the analysis\n",
    ".libPaths( c( .libPaths(), \"/home/amazigh.mokhtari/NeuroDev_ADD/R/r_3.6.0/\") )\n",
    "\n",
    "\n",
    "library(\"IntNMF\")\n"
   ]
  },
  {
   "cell_type": "code",
   "execution_count": 3,
   "id": "c84928ec",
   "metadata": {},
   "outputs": [],
   "source": []
  },
  {
   "cell_type": "code",
   "execution_count": 5,
   "id": "51f05369",
   "metadata": {},
   "outputs": [],
   "source": [
    "# omics = readRDS (\"/home//amazigh.mokhtari/NeuroDev_ADD/Psy/CT_Scar/Analysis/CT-Scar/00_RGCCA/RGCCA_Multi_MDD/male_data_filtered_adjusted_dnam_fVar_lm.RDS\")"
   ]
  },
  {
   "cell_type": "code",
   "execution_count": 13,
   "id": "fdba0eba-3845-4c9b-98e1-83d38c35f332",
   "metadata": {},
   "outputs": [],
   "source": [
    "omics = readRDS (\"00_Data/MDD_Male_DNAm_No_preserv.RDS\")\n",
    "num.factors = 10"
   ]
  },
  {
   "cell_type": "code",
   "execution_count": 14,
   "id": "c46c9ea9",
   "metadata": {},
   "outputs": [],
   "source": [
    "# IntNMF : All values must be positive. There are -ve entries in dat1\n",
    "\n",
    "###MCIA\n",
    "\n",
    "omics_pos<-list()\n",
    "  for(j in 1:length(omics[1:3])){\n",
    "    if(min(omics[[j]])<0){\n",
    "      omics_pos[[j]]<-omics[[j]]+abs(min(omics[[j]]))\n",
    "    }else{\n",
    "      omics_pos[[j]]<-omics[[j]]\n",
    "    }\n",
    "    omics_pos[[j]] <-omics_pos[[j]]/max(omics_pos[[j]])\n",
    "  }\n",
    "\n",
    "\n"
   ]
  },
  {
   "cell_type": "code",
   "execution_count": 26,
   "id": "0c7fb061-6e3c-4bf5-80a8-7db09b392aea",
   "metadata": {},
   "outputs": [],
   "source": [
    "## get the component for each omic \n",
    "names =  c( \"miRNA\" , \"mRNA\" , \"DNAm\")\n",
    "for (i in 1:3) {\n",
    "    intnmf_omic =  nmf.mnnals(dat=  omics_pos [i] , k=num.factors)\n",
    "    saveRDS(intnmf_omic , paste0( \"02_Results/01_MDD_Male_DNAm_No_preserv/comp_intNMF\" , names [i]  , \".RDS\")  )  \n",
    "}"
   ]
  },
  {
   "cell_type": "code",
   "execution_count": 15,
   "id": "28900b99-f8ad-4ec4-850e-c134ba6d2993",
   "metadata": {},
   "outputs": [],
   "source": [
    "###intNMF\n",
    "factorizations_intnmf =  nmf.mnnals(dat=  omics_pos[1:3] , k=num.factors)"
   ]
  },
  {
   "cell_type": "code",
   "execution_count": 18,
   "id": "b2518f1b-513d-41fb-899b-412b63a3b3d0",
   "metadata": {},
   "outputs": [],
   "source": []
  },
  {
   "cell_type": "code",
   "execution_count": null,
   "id": "07bca7fa",
   "metadata": {},
   "outputs": [],
   "source": [
    "                                       \n",
    "                                        \n",
    "  ### JIVE\n",
    "\n",
    "factorizations_jive<-jive(omics, rankJ=num.factors, rankA = rep(num.factors, length(omics)), method = \"given\", conv = \"default\", maxiter = 100, showProgress=FALSE)\n",
    "saveRDS(factorizations_jive , \"factorizations_jive.RDS\")                                         \n",
    "\n",
    "                                            \n"
   ]
  }
 ],
 "metadata": {
  "kernelspec": {
   "display_name": "R 3.6",
   "language": "R",
   "name": "ir36"
  },
  "language_info": {
   "codemirror_mode": "r",
   "file_extension": ".r",
   "mimetype": "text/x-r-source",
   "name": "R",
   "pygments_lexer": "r",
   "version": "3.6.0"
  }
 },
 "nbformat": 4,
 "nbformat_minor": 5
}

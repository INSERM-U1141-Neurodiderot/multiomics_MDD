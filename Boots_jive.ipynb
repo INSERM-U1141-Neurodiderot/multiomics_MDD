{
 "cells": [
  {
   "cell_type": "code",
   "execution_count": 1,
   "id": "abba83ca-8dea-448b-b5b5-43055a865f75",
   "metadata": {},
   "outputs": [
    {
     "name": "stderr",
     "output_type": "stream",
     "text": [
      "\n",
      "Attaching package: ‘dplyr’\n",
      "\n",
      "\n",
      "The following objects are masked from ‘package:stats’:\n",
      "\n",
      "    filter, lag\n",
      "\n",
      "\n",
      "The following objects are masked from ‘package:base’:\n",
      "\n",
      "    intersect, setdiff, setequal, union\n",
      "\n",
      "\n",
      "corrplot 0.84 loaded\n",
      "\n"
     ]
    }
   ],
   "source": [
    ".libPaths(\"/home//amazigh.mokhtari//NeuroDev_ADD/R/r_3.6.0/\")\n",
    "#library (argparser)\n",
    "library (r.jive)\n",
    "library (dplyr)\n",
    "library(corrplot)\n"
   ]
  },
  {
   "cell_type": "code",
   "execution_count": 2,
   "id": "10c8c996-77ce-47ed-bebd-6c7144475c1e",
   "metadata": {},
   "outputs": [],
   "source": [
    "omics = readRDS(\"~/NeuroDev_ADD/Psy/CT_Scar/Analysis/CT-Scar/00_RGCCA/Momix/##Male_Female_Supervised/00_Data/Female_MDD_omic_miRNAmRNADNAm.RDS\")\n"
   ]
  },
  {
   "cell_type": "code",
   "execution_count": 3,
   "id": "c51a2ece-f51d-4aa3-a2fa-e0ac775b79c1",
   "metadata": {},
   "outputs": [],
   "source": [
    "covFEMALE = readRDS (\"/home//amazigh.mokhtari/NeuroDev_ADD/Psy/CT_Scar/Analysis/CT-Scar/00_RGCCA/Momix/Female_MDD/00_Data/cov.icm.RDS\")\n",
    "rownames(covFEMALE) = gsub( \"_L[0-9]+\", \"\" ,   rownames(covFEMALE)  )\n",
    "covFEMALE = covFEMALE [ rownames(omics$miRNA) , ]\n",
    "Group = as.numeric ( as.factor (covFEMALE$Group)) "
   ]
  },
  {
   "cell_type": "code",
   "execution_count": 10,
   "id": "9995cc14-c1cd-4fd4-bf0f-70df81fec580",
   "metadata": {},
   "outputs": [],
   "source": [
    "boot_rnames = list()\n",
    "covFEMALE = covFEMALE %>% \n",
    "  mutate(s_names = rownames(.)) \n",
    "boot_rnames = lapply (1:500 , function (x) {\n",
    "        covFEMALE %>%\n",
    "          group_by(Group) %>% \n",
    "          sample_n(nrow(.), replace=T) %>% .$s_names %>% unlist })"
   ]
  },
  {
   "cell_type": "code",
   "execution_count": 5,
   "id": "0d2b0e39-0320-4528-81cd-10d88f59dae4",
   "metadata": {},
   "outputs": [],
   "source": [
    "#########################\n",
    "#########################\n",
    "#########################\n",
    "\n",
    "#### Function to extract Jive Results\n",
    "Jive_extract = function (JIVE_dry) {\n",
    "    ### Extract Jive Results \n",
    "    rankJV   = JIVE_dry$rankJ\n",
    "    rankIV.v = JIVE_dry$rankA   \n",
    "\n",
    "    J  = numeric(0)\n",
    "    ng = 0\n",
    "\n",
    "    factors_jive = features_w_jive = list()\n",
    "\n",
    "    for(j in 1:length(JIVE_dry$data)){\n",
    "\n",
    "        J  = rbind(J,JIVE_dry$joint[[j]]);\n",
    "        ng = c(ng,dim(JIVE_dry$joint[[j]])[1])\n",
    "      }\n",
    "\n",
    "    svd.o = svd(J);\n",
    "    jV    = svd.o$v %*% diag(svd.o$d);\n",
    "\n",
    "    for(j in 1:length(JIVE_dry$data)){\n",
    "        features_w_jive[[j]]  =  svd.o$u[(1+sum(ng[1:j])):sum(ng[1:j+1]),1:rankJV]; ###error in dimension\n",
    "        rownames(features_w_jive[[j]]) = colnames(omics [[names(JIVE_dry$data[j] )]])   #rownames( t(JIVE_dry$data[[j]]))\n",
    "        colnames(features_w_jive[[j]]) = paste0(\"JIVE_\" , 1:num_factors )\n",
    "      }\n",
    "\n",
    "    factors_jive = jV[,1:rankJV]\n",
    "    colnames(factors_jive) = paste0(\"JIVE_\" , 1:10 )\n",
    "\n",
    "\n",
    "    return (list( factors_jive = factors_jive, features_w_jive = features_w_jive )) }\n",
    "\n",
    "########################\n",
    "\n",
    "cor.mtest = function(mat, ...) {\n",
    "    mat = as.matrix(mat)\n",
    "    n = ncol(mat)\n",
    "    p.mat = matrix(NA, n, n)\n",
    "    diag(p.mat) <- 0\n",
    "    for (i in 1:(n - 1)) {\n",
    "        for (j in (i + 1):n) {\n",
    "            tmp = cor.test(mat[, i], mat[, j], ...)\n",
    "            p.mat[i, j] = p.mat[j, i] <- tmp$p.value\n",
    "        }\n",
    "    }\n",
    "  colnames(p.mat) = rownames(p.mat) <- colnames(mat)\n",
    "  p.mat\n",
    "}\n",
    "\n",
    "\n",
    "\n",
    "cor_mat = function (x){\n",
    "    M = cor(x)\n",
    "p.mat = cor.mtest(x)\n",
    "col = colorRampPalette(c(\"#BB4444\", \"#EE9988\", \"#FFFFFF\", \"#77AADD\", \"#4477AA\"))\n",
    "plot = corrplot(M, method=\"color\", col=col(200),  \n",
    "         type=\"upper\", \n",
    "         addCoef.col = \"black\", # Ajout du coefficient de corrélation\n",
    "         tl.col=\"black\", tl.srt=45, #Rotation des etiquettes de textes\n",
    "         # Combiner avec le niveau de significativité\n",
    "         p.mat = p.mat, sig.level = 0.05, insig = \"blank\", \n",
    "         # Cacher les coefficients de corrélation sur la diagonale\n",
    "         diag=FALSE \n",
    "         )\n",
    "# get top fact cor to Group \n",
    "    pval_group = p.mat [ 1:nrow(p.mat)-1, ncol(p.mat)] \n",
    "    \n",
    "    name_fact_ = names(which.min(pval_group [ pval_group < 0.05]))\n",
    "    if (length(name_fact_) != 0 ) {\n",
    "         top.fact =  name_fact_   \n",
    "    }\n",
    "    \n",
    "    return( list (cor.mat = M , p.mat = p.mat , plot = plot , top.fact = top.fact))\n",
    "}\n",
    "\n",
    "\n",
    "#### Get top features \n",
    "\n",
    "\n",
    "get_top_feature = function (features_w , top_cor_ ) {\n",
    "    ### remove the Cov table if exist    \n",
    "    lapply (1:length(features_w) , function (x) {   X =  features_w [[x]] %>% \n",
    "                         .[order ( - abs(.[,  top_cor_  ])  ) ,] ; # order the features according to the top factor that corr the most with phenotype\n",
    "                                if ( grepl(\"miR\" , rownames(X) [1] ) ){ ### if omic == miRNA %>% get the top 2% (~ 14 miRNA)\n",
    "                                    X %>% head (n = round (nrow(.) *0.02 )  ) %>% \n",
    "                                    rownames\n",
    "                                }else{\n",
    "                                    X %>% head (n = round (nrow(.) *0.1 )  ) %>%  ### if omic is else  %>% get the top 10% \n",
    "                                    rownames\n",
    "                                                                                                              }\n",
    "                                                                                                              } )  \n",
    "\n",
    "}"
   ]
  },
  {
   "cell_type": "code",
   "execution_count": 6,
   "id": "4e6fa405-a60e-4bfa-879e-69afa8b74138",
   "metadata": {},
   "outputs": [
    {
     "name": "stderr",
     "output_type": "stream",
     "text": [
      "Loading required package: iterators\n",
      "\n",
      "Loading required package: parallel\n",
      "\n"
     ]
    }
   ],
   "source": [
    "library(foreach)\n",
    "library(doParallel)\n",
    "\n",
    "cl <- parallel::makeCluster(4)\n",
    "doParallel::registerDoParallel(cl)"
   ]
  },
  {
   "cell_type": "code",
   "execution_count": 11,
   "id": "2af1c80f-f13a-4366-bbfa-74ac8305ec5a",
   "metadata": {
    "collapsed": true,
    "jupyter": {
     "outputs_hidden": true
    },
    "tags": []
   },
   "outputs": [
    {
     "name": "stderr",
     "output_type": "stream",
     "text": [
      "Timing stopped at: 0.223 0.195 0.036\n",
      "\n"
     ]
    },
    {
     "ename": "ERROR",
     "evalue": "Error in {: task 64 failed - \"Error: svd(x) and svd(t(x)) both failed to converge.\"\n",
     "output_type": "error",
     "traceback": [
      "Error in {: task 64 failed - \"Error: svd(x) and svd(t(x)) both failed to converge.\"\nTraceback:\n",
      "1. foreach(i = 11:500) %do% {\n .     op = lapply(omics, function(x) x[boot_rnames[[i]], ])\n .     factorizations_jive = jive(lapply(op, t), rankJ = num_factors, \n .         rankA = rep(num_factors, length(op)), method = \"given\", \n .         conv = \"default\", maxiter = 1000, showProgress = FALSE)\n .     JIVE_Fact = Jive_extract(factorizations_jive)[[\"factors_jive\"]]\n .     features_w_jive = Jive_extract(factorizations_jive)[[\"features_w_jive\"]]\n .     features_w_jive = features_w_jive[1:(length(features_w_jive) - \n .         1)]\n .     cor_meth_jive = cor.mtest(cbind(JIVE_Fact, Group))[1:10, \n .         11]\n .     top_cor_jive = names(cor_meth_jive)[which.min(cor_meth_jive)]\n .     Top_feature = get_top_feature(features_w_jive, top_cor_jive)\n .     write.table(Top_feature[[1]], file = paste0(\"boots/miRNA_jive_\", \n .         i, top_cor_jive, \".txt\"), sep = \"\\t\", row.names = F, \n .         col.names = F, quote = F)\n .     write.table(Top_feature[[2]], file = paste0(\"boots/mRNA_jive_\", \n .         i, top_cor_jive, \".txt\"), sep = \"\\t\", row.names = F, \n .         col.names = F, quote = F)\n .     write.table(Top_feature[[3]], file = paste0(\"boots/DNAm_jive_\", \n .         i, top_cor_jive, \".txt\"), sep = \"\\t\", row.names = F, \n .         col.names = F, quote = F)\n . }",
      "2. e$fun(obj, substitute(ex), parent.frame(), e$data)"
     ]
    }
   ],
   "source": [
    "num_factors = 10 \n",
    "foreach(i = 1:500)  %do% {\n",
    "op = lapply (omics  , function (x) x [ boot_rnames [[i]] , ]     )\n",
    "factorizations_jive = jive( lapply (op,t) , \n",
    "                            rankJ   = num_factors, \n",
    "                            rankA   = rep ( num_factors, length( op ) ), \n",
    "                            method  = \"given\", \n",
    "                            conv    = \"default\", \n",
    "                            maxiter = 1000, \n",
    "                            showProgress = FALSE)\n",
    "\n",
    "JIVE_Fact   =  Jive_extract(factorizations_jive) [[\"factors_jive\"]] \n",
    "\n",
    "features_w_jive =   Jive_extract(factorizations_jive) [[\"features_w_jive\"]]   \n",
    "features_w_jive = features_w_jive[1:(length(features_w_jive)-1) ]\n",
    "\n",
    "\n",
    "cor_meth_jive = cor.mtest (cbind(JIVE_Fact , Group )) [1:10 , 11]\n",
    "top_cor_jive = names(cor_meth_jive ) [which.min(cor_meth_jive)] \n",
    "\n",
    "Top_feature = get_top_feature (features_w_jive , top_cor_jive )\n",
    "write.table (Top_feature[[1]] , file = paste0(\"boots/miRNA_jive_\",i,  top_cor_jive ,\".txt\") ,\n",
    "                                 sep = \"\\t\" ,\n",
    "                                 row.names = F ,\n",
    "                                 col.names = F ,\n",
    "                                 quote = F)\n",
    "write.table (Top_feature[[2]] , file = paste0(\"boots/mRNA_jive_\",i,  top_cor_jive ,\".txt\") ,\n",
    "                                 sep = \"\\t\" ,\n",
    "                                 row.names = F ,\n",
    "                                 col.names = F ,\n",
    "                                 quote = F)\n",
    "write.table (Top_feature[[3]] , file = paste0(\"boots/DNAm_jive_\",i,  top_cor_jive ,\".txt\") ,\n",
    "                                 sep = \"\\t\" ,\n",
    "                                 row.names = F ,\n",
    "                                 col.names = F ,\n",
    "                                 quote = F)\n",
    "             }"
   ]
  },
  {
   "cell_type": "code",
   "execution_count": 12,
   "id": "78f353bd-a99e-4c48-bd73-9bb4e5be8e93",
   "metadata": {},
   "outputs": [],
   "source": [
    "Files_mRNA = list.files(\"boots/\", pattern=glob2rx (\"mRNA_*.txt\"), \n",
    "    full.names=FALSE)\n",
    "Files_miRNA = list.files(\"boots/\", pattern=glob2rx (\"miRNA_*.txt\"), \n",
    "    full.names=FALSE)\n",
    "Files_DNAm = list.files(\"boots/\", pattern=glob2rx (\"DNAm_*.txt\"), \n",
    "    full.names=FALSE)"
   ]
  },
  {
   "cell_type": "code",
   "execution_count": 13,
   "id": "e6dbcff3-4112-4e93-a614-1125d80a4687",
   "metadata": {},
   "outputs": [],
   "source": [
    "df_mRNA  =  lapply (Files_mRNA ,function (x) read.csv2(file = file.path(\"boots/\", x) , sep=\"\\t\", col.names = F) )\n",
    "df_miRNA =  lapply (Files_miRNA ,function (x) read.csv2(file = file.path(\"boots/\", x) , sep=\"\\t\", col.names = F) )\n",
    "df_DNAm  =  lapply (Files_DNAm ,function (x) read.csv2(file = file.path(\"boots/\", x) , sep=\"\\t\", col.names = F) )"
   ]
  },
  {
   "cell_type": "code",
   "execution_count": 26,
   "id": "96c2ca9e-d91a-4657-9ff8-a69a8b288ea4",
   "metadata": {},
   "outputs": [],
   "source": [
    "boots_mRNA = df_mRNA %>% unlist %>% table %>% as.data.frame %>% arrange (-Freq) %>% mutate (per = Freq * 100 / 500)\n",
    "boots_miRNA = df_miRNA %>% unlist %>% table %>% as.data.frame %>% arrange (-Freq) %>% mutate (per = Freq * 100 / 500)\n",
    "boots_DNAm = df_DNAm %>% unlist %>% table %>% as.data.frame %>% arrange (-Freq) %>% mutate (per = Freq * 100 / 500)"
   ]
  },
  {
   "cell_type": "code",
   "execution_count": 32,
   "id": "647f4439-7025-440c-9ad2-9ad2562cf858",
   "metadata": {},
   "outputs": [],
   "source": [
    "boots_list = list (boots_mRNA = boots_mRNA , \n",
    "boots_miRNA = boots_miRNA  , \n",
    "boots_DNAm = boots_DNAm)"
   ]
  },
  {
   "cell_type": "code",
   "execution_count": null,
   "id": "5dc1010b-83eb-4908-9536-245ad8459459",
   "metadata": {},
   "outputs": [],
   "source": []
  }
 ],
 "metadata": {
  "kernelspec": {
   "display_name": "R 3.6",
   "language": "R",
   "name": "ir36"
  },
  "language_info": {
   "codemirror_mode": "r",
   "file_extension": ".r",
   "mimetype": "text/x-r-source",
   "name": "R",
   "pygments_lexer": "r",
   "version": "3.6.0"
  }
 },
 "nbformat": 4,
 "nbformat_minor": 5
}
